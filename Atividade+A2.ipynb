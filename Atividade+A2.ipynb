{
 "cells": [
  {
   "cell_type": "markdown",
   "metadata": {},
   "source": [
    "Índice"
   ]
  },
  {
   "cell_type": "markdown",
   "metadata": {},
   "source": [
    "- [Descrição da Atividade](#Descrição-da-Atividade)"
   ]
  },
  {
   "cell_type": "code",
   "execution_count": null,
   "metadata": {
    "collapsed": true
   },
   "outputs": [],
   "source": [
    "#pathFileImages = 'C:/Users/claud/OneDrive/Documentos/Figuras Matemática Computacional/Erros/'\n",
    "\n",
    "pathFileImages = 'C:/Users/claud/Dropbox/RepoGit/disciplina/temp/MatematicaComputacionalUFPA/Noções Básicas sobre Erros/Figuras Representação/'\n",
    "\n",
    "\n",
    "from IPython.display import Image\n",
    "from IPython.display import HTML\n",
    "import matplotlib.pyplot as plt\n",
    "import numpy as np\n",
    "import numpy.random as npr\n",
    "import math"
   ]
  },
  {
   "cell_type": "markdown",
   "metadata": {},
   "source": [
    "# Descrição da Atividade"
   ]
  },
  {
   "cell_type": "code",
   "execution_count": null,
   "metadata": {
    "collapsed": true
   },
   "outputs": [],
   "source": [
    "print('0b10011 para decimal')\n",
    "print(1 * 2**4 + 0 * 2**3 + 0 * 2**2 + 1 * 2**1 + 1 * 2**0)"
   ]
  },
  {
   "cell_type": "code",
   "execution_count": 7,
   "metadata": {
    "collapsed": false
   },
   "outputs": [
    {
     "name": "stdout",
     "output_type": "stream",
     "text": [
      "b_4 = 1\n",
      "b_3 = 0 + 2 * b_4\n",
      "b_2 = 0 + 2 * b_3\n",
      "b_1 = 1 + 2 * b_2\n",
      "b_0 = 1 + 2 * b_1\n",
      "35\n"
     ]
    }
   ],
   "source": [
    "print ('b_4 = 1')\n",
    "b_4 = 1\n",
    "print ('b_3 = 0 + 2 * b_4')\n",
    "b_3 = 0 + 2 * b_4\n",
    "print('b_2 = 0 + 2 * b_3')\n",
    "b_2 = 0 + 2 * b_3\n",
    "print('b_1 = 1 + 2 * b_2')\n",
    "b_1 = 1 + 2 * b_2\n",
    "print('b_0 = 1 + 2 * b_1')\n",
    "b_0 = 1 + 2 * b_1\n",
    "\n",
    "print (b_0 + b_1 + b_2 + b_3 + b_4)"
   ]
  },
  {
   "cell_type": "code",
   "execution_count": 17,
   "metadata": {
    "collapsed": false
   },
   "outputs": [
    {
     "ename": "TypeError",
     "evalue": "'bool' object is not iterable",
     "output_type": "error",
     "traceback": [
      "\u001b[0;31m---------------------------------------------------------------------------\u001b[0m",
      "\u001b[0;31mTypeError\u001b[0m                                 Traceback (most recent call last)",
      "\u001b[0;32m<ipython-input-17-0d39f52838c1>\u001b[0m in \u001b[0;36m<module>\u001b[0;34m()\u001b[0m\n\u001b[0;32m----> 1\u001b[0;31m \u001b[0ma_0\u001b[0m\u001b[1;33m,\u001b[0m \u001b[0ma_1\u001b[0m\u001b[1;33m,\u001b[0m \u001b[0ma_2\u001b[0m\u001b[1;33m,\u001b[0m \u001b[0ma_3\u001b[0m\u001b[1;33m,\u001b[0m \u001b[0ma_4\u001b[0m\u001b[1;33m,\u001b[0m \u001b[0ma_5\u001b[0m\u001b[1;33m,\u001b[0m \u001b[0ma_6\u001b[0m\u001b[1;33m,\u001b[0m \u001b[0ma_7\u001b[0m\u001b[1;33m,\u001b[0m \u001b[0ma_8\u001b[0m \u001b[1;33m=\u001b[0m \u001b[1;36m1\u001b[0m\u001b[1;33m==\u001b[0m\u001b[1;36m2\u001b[0m\u001b[1;33m\u001b[0m\u001b[0m\n\u001b[0m\u001b[1;32m      2\u001b[0m \u001b[0mprint\u001b[0m\u001b[1;33m(\u001b[0m\u001b[1;34m'N_0 = 347 = 2 * 173 + 1 => a_0 = 1 '\u001b[0m\u001b[1;33m)\u001b[0m\u001b[1;33m\u001b[0m\u001b[0m\n\u001b[1;32m      3\u001b[0m \u001b[0mprint\u001b[0m\u001b[1;33m(\u001b[0m\u001b[1;34m'N_1 = 173 = 2 * 86 + 1 => a_1 = 0 '\u001b[0m\u001b[1;33m)\u001b[0m\u001b[1;33m\u001b[0m\u001b[0m\n\u001b[1;32m      4\u001b[0m \u001b[0mprint\u001b[0m\u001b[1;33m(\u001b[0m\u001b[1;34m'N_2 = 86 = 2 * 43 + 0 => a_2 = 1 '\u001b[0m\u001b[1;33m)\u001b[0m\u001b[1;33m\u001b[0m\u001b[0m\n\u001b[1;32m      5\u001b[0m \u001b[0mprint\u001b[0m\u001b[1;33m(\u001b[0m\u001b[1;34m'N_3 = 43 = 2 * 21 + 1 => a_3 = 0 '\u001b[0m\u001b[1;33m)\u001b[0m\u001b[1;33m\u001b[0m\u001b[0m\n",
      "\u001b[0;31mTypeError\u001b[0m: 'bool' object is not iterable"
     ]
    }
   ],
   "source": [
    "a_0, a_1, a_2, a_3, a_4, a_5, a_6, a_7, a_8\n",
    "print('N_0 = 347 = 2 * 173 + 1 => a_0 = 1 ')\n",
    "print('N_1 = 173 = 2 * 86 + 1 => a_1 = 0 ')\n",
    "print('N_2 = 86 = 2 * 43 + 0 => a_2 = 1 ')\n",
    "print('N_3 = 43 = 2 * 21 + 1 => a_3 = 0 ')\n",
    "print('N_4 = 21 = 2 * 10 + 1 => a_4 = 1 ')\n",
    "print('N_5 = 10 = 2 * 5 + 0 => a_5 = 1 ')\n",
    "print('N_6 = 5 = 2 * 2 + 1 => a_6 = 0 ')\n",
    "print('N_7 = 2 = 2 * 1 + 0 => a_7 = 1 ')\n",
    "print('N_8 = 1 = 2 * 0 + 1 => a_8 = 1 ')\n",
    "\n",
    "print (a_0, a_1, a_2, a_3, a_4, a_5, a_6, a_7, a_8)\n"
   ]
  },
  {
   "cell_type": "code",
   "execution_count": null,
   "metadata": {
    "collapsed": true
   },
   "outputs": [],
   "source": [
    "import numpy as np\n",
    "n = int(input('Entre com o valor n a ser convertido: \\n'))\n",
    "def binario (num):\n",
    "    r = np.array([],dtype = int)\n",
    "    q = np.array([],dtype = int)\n",
    "    a = np.array([],dtype = int)\n",
    "    i = 0\n",
    "\n",
    "    for i in range (0,5):\n",
    "\n",
    "        print(i,'ª iteração\\n')\n",
    "        r = np.append(r, np.array(np.remainder(num,2)) ) \n",
    "        print(r)\n",
    "\n",
    "        q = np.append(q, np.array((num - r[i])/ 2, dtype = int))\n",
    "        print(q)\n",
    "\n",
    "        num = q[i]\n",
    "        a = np.append(a,r[i])\n",
    "        print('a',a)\n",
    "\n",
    "        print('num atualizado',num)\n",
    "    return (print('binario: ',a))\n",
    "\n",
    "binario (n)"
   ]
  }
 ],
 "metadata": {
  "anaconda-cloud": {},
  "kernelspec": {
   "display_name": "Python [default]",
   "language": "python",
   "name": "python3"
  },
  "language_info": {
   "codemirror_mode": {
    "name": "ipython",
    "version": 3
   },
   "file_extension": ".py",
   "mimetype": "text/x-python",
   "name": "python",
   "nbconvert_exporter": "python",
   "pygments_lexer": "ipython3",
   "version": "3.5.2"
  }
 },
 "nbformat": 4,
 "nbformat_minor": 2
}
